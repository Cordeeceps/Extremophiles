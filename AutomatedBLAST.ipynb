{
 "cells": [
  {
   "cell_type": "code",
   "execution_count": 1,
   "id": "b363b519",
   "metadata": {},
   "outputs": [],
   "source": [
    "from Bio import Entrez, SeqIO\n",
    "from Bio.Blast import NCBIWWW\n",
    "from Bio.Blast import NCBIXML"
   ]
  },
  {
   "cell_type": "code",
   "execution_count": 2,
   "id": "37bc0226",
   "metadata": {},
   "outputs": [],
   "source": [
    "# Provide your email address (required by GenBank)\n",
    "Entrez.email = \"megzlives@gmail.com\""
   ]
  },
  {
   "cell_type": "code",
   "execution_count": 3,
   "id": "65d41618",
   "metadata": {},
   "outputs": [],
   "source": [
    "# refseq accession number for D. radiodurans\n",
    "accession_d_radiodurans = \"M21413\""
   ]
  },
  {
   "cell_type": "code",
   "execution_count": 4,
   "id": "30ae0bc5",
   "metadata": {},
   "outputs": [],
   "source": [
    "# Accession number for T. thermophilus\n",
    "accession_t_thermophilus = \"NC_006461.1\""
   ]
  },
  {
   "cell_type": "code",
   "execution_count": 5,
   "id": "b1f2828c",
   "metadata": {},
   "outputs": [],
   "source": [
    "# Define a function to retrieve genomic data\n",
    "def retrieve_genomic_data(accession):\n",
    "    handle = Entrez.efetch(db=\"nucleotide\", id=accession, rettype=\"gb\", retmode=\"text\")\n",
    "    record = SeqIO.read(handle, \"genbank\")\n",
    "    return record"
   ]
  },
  {
   "cell_type": "code",
   "execution_count": 6,
   "id": "d9d81150",
   "metadata": {},
   "outputs": [],
   "source": [
    "# Retrieve genomic data for D. radiodurans\n",
    "d_radiodurans_data = retrieve_genomic_data(accession_d_radiodurans)"
   ]
  },
  {
   "cell_type": "code",
   "execution_count": 7,
   "id": "b0d62488",
   "metadata": {},
   "outputs": [],
   "source": [
    "# Retrieve genomic data for T. thermophilus\n",
    "t_thermophilus_data = retrieve_genomic_data(accession_t_thermophilus)"
   ]
  },
  {
   "cell_type": "code",
   "execution_count": 8,
   "id": "eab70430",
   "metadata": {},
   "outputs": [],
   "source": [
    "# Define the selected genes involved in radiation resistance\n",
    "selected_genes = [\n",
    "    \"PprA\",\n",
    "    \"RecA\",\n",
    "    \"DdrA\",\n",
    "    \"DdrB\",\n",
    "    \"DdrC\",\n",
    "    \"Ku\",\n",
    "    \"LigD\",\n",
    "    \"DR 0423 (PprI)\",\n",
    "    \"Ssb (Single-stranded DNA binding protein)\",\n",
    "    \"PolA (DNA polymerase I)\",\n",
    "    \"ThyA (Thymidylate Synthase)\",\n",
    "    \"Purine-Nucleoside Phosphorylase\"\n",
    "]"
   ]
  },
  {
   "cell_type": "code",
   "execution_count": 9,
   "id": "b41f1286",
   "metadata": {},
   "outputs": [],
   "source": [
    "# Create a function to perform BLAST analysis for a gene\n",
    "def perform_blast(gene, organism):\n",
    "    gene_query = f\"{gene} [{organism}]\"\n",
    "    print (\"hello\")\n",
    "    try:\n",
    "        result_handle = NCBIWWW.qblast(\"blastn\", \"nr\", gene_query)\n",
    "        return result_handle\n",
    "    except Exception as e:\n",
    "        print(f\"Error performing BLAST for {gene}: {str(e)}\")\n",
    "        return None"
   ]
  },
  {
   "cell_type": "code",
   "execution_count": 10,
   "id": "71bbcffe",
   "metadata": {},
   "outputs": [],
   "source": [
    "# Specify the organism names for D. radiodurans and T. thermophilus\n",
    "organism_d_radiodurans = \"Deinococcus radiodurans\"\n",
    "organism_t_thermophilus = \"Thermus thermophilus\""
   ]
  },
  {
   "cell_type": "code",
   "execution_count": null,
   "id": "cd4549bf",
   "metadata": {},
   "outputs": [
    {
     "name": "stdout",
     "output_type": "stream",
     "text": [
      "hello\n"
     ]
    }
   ],
   "source": [
    "# Test the perform_blast function with a known gene and organism\n",
    "result_handle = perform_blast(\"RecA\", \"Deinococcus radiodurans\")"
   ]
  },
  {
   "cell_type": "code",
   "execution_count": null,
   "id": "c3ebd03e",
   "metadata": {},
   "outputs": [],
   "source": [
    "# Test the perform_blast function with a known gene and organism\n",
    "result_handle = perform_blast(\"PprA\", \"Deinococcus radiodurans\")\n",
    "\n",
    "# Check if you get a valid result_handle\n",
    "if result_handle:\n",
    "    print(\"BLAST search successful.\")\n",
    "else:\n",
    "    print(\"BLAST search failed.\")"
   ]
  },
  {
   "cell_type": "code",
   "execution_count": null,
   "id": "a8e4040a",
   "metadata": {},
   "outputs": [],
   "source": [
    "# perform BLAST analysis for each selected gene\n",
    "blast_results = {}\n",
    "for gene in selected_genes:\n",
    "    print(\"hello\")\n",
    "    # BLAST analysis for D. radiodurans\n",
    "    try:\n",
    "        result_handle_d_radiodurans = perform_blast(gene, organism_d_radiodurans)\n",
    "        print(f\"BLAST analysis for {gene} in {organism_d_radiodurans} completed.\")\n",
    "    except Exception as e:\n",
    "        print(f\"Error while performing BLAST analysis for {gene} in {organism_d_radiodurans}: {str(e)}\")\n",
    "\n",
    "    print(\"goodbye\")\n",
    "\n",
    "    # BLAST analysis for T. thermophilus\n",
    "    try:\n",
    "        result_handle_t_thermophilus = perform_blast(gene, organism_t_thermophilus)\n",
    "        print(f\"BLAST analysis for {gene} in {organism_t_thermophilus} completed.\")\n",
    "    except Exception as e:\n",
    "        print(f\"Error while performing BLAST analysis for {gene} in {organism_t_thermophilus}: {str(e)}\")\n",
    "\n",
    "    # Store the BLAST results in a dictionary\n",
    "    blast_results[gene] = {\n",
    "        organism_d_radiodurans: result_handle_d_radiodurans,\n",
    "        organism_t_thermophilus: result_handle_t_thermophilus\n",
    "    }"
   ]
  },
  {
   "cell_type": "code",
   "execution_count": null,
   "id": "d488461a",
   "metadata": {},
   "outputs": [],
   "source": [
    "# Iterate through the BLAST results and extract relevant information\n",
    "for gene, results in blast_results.items():\n",
    "    if results[organism_d_radiodurans] is not None:\n",
    "        print(f\"Results for gene: {gene} (D. radiodurans)\")\n",
    "        blast_records = NCBIXML.read(results[organism_d_radiodurans])\n",
    "        for alignment in blast_records.alignments:\n",
    "            for hsp in alignment.hsps:\n",
    "                print(f\"Alignment Title: {alignment.title}\")\n",
    "                print(f\"Score: {hsp.score}\")\n",
    "                print(f\"Bit Score: {hsp.bits}\")\n",
    "                print(f\"E-Value: {hsp.expect}\")\n",
    "                print(f\"Identity: {hsp.identities}/{hsp.align_length} ({hsp.identities/hsp.align_length:.2%} identity)\")\n",
    "                print()\n",
    "    if results[organism_t_thermophilus] is not None:\n",
    "        print(f\"Results for gene: {gene} (T. thermophilus)\")\n",
    "        blast_records = NCBIXML.read(results[organism_t_thermophilus])\n",
    "        for alignment in blast_records.alignments:\n",
    "            for hsp in alignment.hsps:\n",
    "                print(f\"Alignment Title: {alignment.title}\")\n",
    "                print(f\"Score: {hsp.score}\")\n",
    "                print(f\"Bit Score: {hsp.bits}\")\n",
    "                print(f\"E-Value: {hsp.expect}\")\n",
    "                print(f\"Identity: {hsp.identities}/{hsp.align_length} ({hsp.identities/hsp.align_length:.2%} identity)\")\n",
    "                print()"
   ]
  }
 ],
 "metadata": {
  "kernelspec": {
   "display_name": "Python 3 (ipykernel)",
   "language": "python",
   "name": "python3"
  },
  "language_info": {
   "codemirror_mode": {
    "name": "ipython",
    "version": 3
   },
   "file_extension": ".py",
   "mimetype": "text/x-python",
   "name": "python",
   "nbconvert_exporter": "python",
   "pygments_lexer": "ipython3",
   "version": "3.9.13"
  }
 },
 "nbformat": 4,
 "nbformat_minor": 5
}
