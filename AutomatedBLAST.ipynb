{
 "cells": [
  {
   "cell_type": "code",
   "execution_count": 1,
   "id": "b363b519",
   "metadata": {},
   "outputs": [],
   "source": [
    "from Bio import Entrez, SeqIO\n",
    "from Bio.Blast import NCBIWWW\n",
    "from Bio.Blast import NCBIXML\n",
    "import time"
   ]
  },
  {
   "cell_type": "code",
   "execution_count": 2,
   "id": "37bc0226",
   "metadata": {},
   "outputs": [],
   "source": [
    "# email address required to access GenBank\n",
    "Entrez.email = \"megzlives@gmail.com\""
   ]
  },
  {
   "cell_type": "code",
   "execution_count": 3,
   "id": "65d41618",
   "metadata": {},
   "outputs": [],
   "source": [
    "# function to retrieve genomic data\n",
    "def retrieve_genomic_data(accession):\n",
    "    print(f\"Attempting to retrieve data for {accession}\")\n",
    "    for attempt in range(3):  # Try to fetch the data up to 3 times\n",
    "        try:\n",
    "            handle = Entrez.efetch(db=\"nucleotide\", id=accession, rettype=\"gbwithparts\", retmode=\"text\")\n",
    "            print(f\"Downloading data for {accession}...\")\n",
    "            # Use SeqIO.parse() to read multi-sequence GenBank files\n",
    "            records = list(SeqIO.parse(handle, \"genbank\"))\n",
    "            handle.close()\n",
    "            print(f\"Successfully retrieved data for {accession}\")\n",
    "            return records  # This will be a list of records\n",
    "        except Exception as e:\n",
    "            print(f\"An error occurred while fetching {accession}: {e}\")\n",
    "            print(\"Attempting to retry...\")\n",
    "            time.sleep(2)  # Wait for 2 seconds before retrying\n",
    "    print(f\"Failed to retrieve data for {accession} after multiple attempts.\")\n",
    "    return None"
   ]
  },
  {
   "cell_type": "code",
   "execution_count": 4,
   "id": "a24d4a5f",
   "metadata": {},
   "outputs": [
    {
     "name": "stdout",
     "output_type": "stream",
     "text": [
      "Attempting to retrieve data for NZ_CP038663.1\n",
      "Downloading data for NZ_CP038663.1...\n",
      "Successfully retrieved data for NZ_CP038663.1\n",
      "Records for NZ_CP038663.1 added to the database.\n",
      "Attempting to retrieve data for NZ_CP038664.1\n",
      "Downloading data for NZ_CP038664.1...\n",
      "Successfully retrieved data for NZ_CP038664.1\n",
      "Records for NZ_CP038664.1 added to the database.\n",
      "Attempting to retrieve data for NZ_CP038666.1\n",
      "Downloading data for NZ_CP038666.1...\n",
      "Successfully retrieved data for NZ_CP038666.1\n",
      "Records for NZ_CP038666.1 added to the database.\n",
      "Attempting to retrieve data for NZ_CP038665.1\n",
      "Downloading data for NZ_CP038665.1...\n",
      "Successfully retrieved data for NZ_CP038665.1\n",
      "Records for NZ_CP038665.1 added to the database.\n"
     ]
    }
   ],
   "source": [
    "# sequentially retrieve genomic data for each accession number\n",
    "d_radiodurans_sequences = {}\n",
    "accession_numbers = [\n",
    "    \"NZ_CP038663.1\",  # Chromosome I\n",
    "    \"NZ_CP038664.1\",  # Chromosome II\n",
    "    \"NZ_CP038666.1\",  # Plasmid pCP1\n",
    "    \"NZ_CP038665.1\",  # Plasmid pMP1\n",
    "]\n",
    "\n",
    "for accession in accession_numbers:\n",
    "    records = retrieve_genomic_data(accession)\n",
    "    if records:\n",
    "        d_radiodurans_sequences[accession] = records\n",
    "        print(f\"Records for {accession} added to the database.\")\n",
    "    else:\n",
    "        print(f\"Could not retrieve records for {accession}.\")"
   ]
  },
  {
   "cell_type": "code",
   "execution_count": 5,
   "id": "d9d81150",
   "metadata": {
    "scrolled": true
   },
   "outputs": [
    {
     "name": "stdout",
     "output_type": "stream",
     "text": [
      "Attempting to retrieve data for NC_006461.1\n",
      "Downloading data for NC_006461.1...\n",
      "Successfully retrieved data for NC_006461.1\n"
     ]
    }
   ],
   "source": [
    "# retrieve genomic data for Thermus thermophilus\n",
    "# note: this is only chromosome data, does not include pTT8 or pTT27\n",
    "t_thermophilus_seq = retrieve_genomic_data(\"NC_006461.1\")"
   ]
  },
  {
   "cell_type": "code",
   "execution_count": 6,
   "id": "30ae0bc5",
   "metadata": {},
   "outputs": [],
   "source": [
    "# function to perform BLAST analysis for a gene sequence from D. radiodurans against an organism\n",
    "def perform_blast(sequence, database=\"nt\", organism=\"Thermus thermophilus\"):\n",
    "    try:\n",
    "        result_handle = NCBIWWW.qblast(\"blastn\", database, sequence, entrez_query=f'organism=\"{organism}\"')\n",
    "        return result_handle\n",
    "    except Exception as e:\n",
    "        print(f\"Error performing BLAST: {str(e)}\")\n",
    "        return None"
   ]
  },
  {
   "cell_type": "code",
   "execution_count": 7,
   "id": "b1f2828c",
   "metadata": {},
   "outputs": [],
   "source": [
    "# function to parse BLAST results\n",
    "def parse_blast_results(blast_result_handle):\n",
    "    blast_records = NCBIXML.read(blast_result_handle)\n",
    "    results = []\n",
    "    for alignment in blast_records.alignments:\n",
    "        for hsp in alignment.hsps:\n",
    "            result = {\n",
    "                'title': alignment.title,\n",
    "                'score': hsp.score,\n",
    "                'e_value': hsp.expect,\n",
    "                'identities': hsp.identities,\n",
    "                'align_length': hsp.align_length\n",
    "            }\n",
    "            results.append(result)\n",
    "    return results"
   ]
  },
  {
   "cell_type": "code",
   "execution_count": 8,
   "id": "5889c3ee",
   "metadata": {},
   "outputs": [],
   "source": [
    "# dictionary of target genes in D. radiodurans; includes gene name and locus tags\n",
    "target_genes = {\n",
    "    \"PprA\": \"E5E91_RS15025\",\n",
    "    \"RecA\": \"E5E91_RS11810\",\n",
    "    \"DdrA\": \"E5E91_RS02140\",\n",
    "    \"DdrB\": \"E5E91_RS00360\",\n",
    "    \"DdrC\": \"E5E91_RS00015\",\n",
    "    \"NADH-quinone oxidoreductase subunit N\": \"E5E91_RS07520\",\n",
    "    \"LigD\": None,  # Replace with the actual locus tag when found\n",
    "    \"Dps\": \"E5E91_RS11440\",\n",
    "    \"Bcp\": None,   # Replace with the actual locus tag when found\n",
    "    \"IrrE\": \"E5E91_RS00855\",\n",
    "    \"Ssb\": None,   # Replace with the actual locus tag when found\n",
    "    \"PolA\": \"E5E91_RS08585\",\n",
    "    \"ThyA\": \"E5E91_RS13290\",\n",
    "    \"PNPase\": \"E5E91_RS10905\"\n",
    "}\n"
   ]
  },
  {
   "cell_type": "code",
   "execution_count": 9,
   "id": "86feecb8",
   "metadata": {},
   "outputs": [],
   "source": [
    "# TODO: remove file writing debugging stuff \n",
    "# function for extracting gene sequence \n",
    "# change search_type to gene to search for gene name or locus_tag to search by locus tag\n",
    "def extract_gene_sequence(search_term, search_type='locus_tag'):\n",
    "    with open(\"gene_and_locus_tags.txt\", \"w\") as file:  # Open a text file for writing\n",
    "        found = False  # Flag to check if we found the gene\n",
    "        for accession, records in d_radiodurans_sequences.items():\n",
    "            for record in records:\n",
    "                for feature in record.features:\n",
    "                    if feature.type in [\"gene\", \"CDS\"]:\n",
    "                        # Extract gene name, locus tag, and gene ID\n",
    "                        gene_name = feature.qualifiers.get(\"gene\", [\"No gene name\"])[0]\n",
    "                        locus_tag = feature.qualifiers.get(\"locus_tag\", [\"No locus tag\"])[0]\n",
    "                        gene_id_list = feature.qualifiers.get(\"db_xref\", [])\n",
    "                        gene_id = next((id_part.split(\":\")[1] for id_part in gene_id_list if id_part.startswith(\"GeneID:\")), \"No Gene ID\")\n",
    "                        file.write(f\"{gene_name}\\t{locus_tag}\\t{gene_id}\\n\")  # Write to file\n",
    "                        if search_type in feature.qualifiers:\n",
    "                            # This can be a list, so check if the search term is in the list\n",
    "                            if search_term in feature.qualifiers[search_type]:\n",
    "                                print(f\"Found {search_type} {search_term} in {accession}, Record ID: {record.id}\")\n",
    "                                found = True\n",
    "                                gene_sequence = feature.extract(record.seq)\n",
    "                                return gene_sequence\n",
    "                if not found:\n",
    "                    print(f\"Gene with {search_type} {search_term} not found in record {record.id}.\")\n",
    "        if not found:\n",
    "            print(f\"Search completed. Gene with {search_type} {search_term} not found in any of the GenBank records.\")\n",
    "    return None"
   ]
  },
  {
   "cell_type": "code",
   "execution_count": 10,
   "id": "5a8e7bf4",
   "metadata": {},
   "outputs": [],
   "source": [
    "# dictionary to store BLAST results for each gene\n",
    "blast_results = {}"
   ]
  },
  {
   "cell_type": "code",
   "execution_count": 11,
   "id": "6b74c13d",
   "metadata": {},
   "outputs": [
    {
     "name": "stdout",
     "output_type": "stream",
     "text": [
      "Gene with locus_tag E5E91_RS15025 not found in record NZ_CP038663.1.\n",
      "Found locus_tag E5E91_RS15025 in NZ_CP038664.1, Record ID: NZ_CP038664.1\n",
      "Gene sequence found for PprA: GTGCTACCCC...\n",
      "Found locus_tag E5E91_RS11810 in NZ_CP038663.1, Record ID: NZ_CP038663.1\n",
      "Gene sequence found for RecA: ATGAGCAAGG...\n",
      "Found locus_tag E5E91_RS02140 in NZ_CP038663.1, Record ID: NZ_CP038663.1\n",
      "Gene sequence found for DdrA: ATGAAGCTGA...\n",
      "Found locus_tag E5E91_RS00360 in NZ_CP038663.1, Record ID: NZ_CP038663.1\n",
      "Gene sequence found for DdrB: ATGTTGCAGA...\n",
      "Found locus_tag E5E91_RS00015 in NZ_CP038663.1, Record ID: NZ_CP038663.1\n",
      "Gene sequence found for DdrC: ATGAAGAACG...\n",
      "Found locus_tag E5E91_RS07520 in NZ_CP038663.1, Record ID: NZ_CP038663.1\n",
      "Gene sequence found for NADH-quinone oxidoreductase subunit N: ATGAATCTGG...\n",
      "Locus tag not found for gene: LigD\n",
      "Found locus_tag E5E91_RS11440 in NZ_CP038663.1, Record ID: NZ_CP038663.1\n",
      "Gene sequence found for Dps: ATGACGAAGA...\n",
      "Locus tag not found for gene: Bcp\n",
      "Found locus_tag E5E91_RS00855 in NZ_CP038663.1, Record ID: NZ_CP038663.1\n",
      "Gene sequence found for IrrE: GTGCCCAGTG...\n",
      "Locus tag not found for gene: Ssb\n",
      "Found locus_tag E5E91_RS08585 in NZ_CP038663.1, Record ID: NZ_CP038663.1\n",
      "Gene sequence found for PolA: ATGGCCGACG...\n",
      "Found locus_tag E5E91_RS13290 in NZ_CP038663.1, Record ID: NZ_CP038663.1\n",
      "Gene sequence found for ThyA: GTGAAACAGT...\n",
      "Found locus_tag E5E91_RS10905 in NZ_CP038663.1, Record ID: NZ_CP038663.1\n",
      "Gene sequence found for PNPase: ATGAGCATTC...\n"
     ]
    }
   ],
   "source": [
    "# extract gene sequences based on locus tag\n",
    "for gene, locus_tag in target_genes.items():\n",
    "    if locus_tag:  # Make sure the locus tag is not None\n",
    "        gene_sequence = extract_gene_sequence(locus_tag, search_type='locus_tag')\n",
    "        if gene_sequence:\n",
    "            # Placeholder for the code to proceed with BLAST or other processing\n",
    "            print(f\"Gene sequence found for {gene}: {gene_sequence[:10]}...\")  # Show part of the gene sequence\n",
    "        else:\n",
    "            print(f\"Sequence extraction failed for gene: {gene}\")\n",
    "    else:\n",
    "        print(f\"Locus tag not found for gene: {gene}\")"
   ]
  },
  {
   "cell_type": "code",
   "execution_count": null,
   "id": "f575386a",
   "metadata": {},
   "outputs": [],
   "source": [
    "# extract gene sequences based on gene name\n",
    "#for gene_name in target_genes.keys():\n",
    "    #gene_sequence = extract_gene_sequence(gene_name, search_type='gene')\n",
    "    #if gene_sequence:\n",
    "        # Proceed with BLAST, etc.\n",
    "    #else:\n",
    "        #print(f\"Sequence extraction failed for gene: {gene_name}\")"
   ]
  },
  {
   "cell_type": "code",
   "execution_count": null,
   "id": "90127d43",
   "metadata": {},
   "outputs": [
    {
     "name": "stdout",
     "output_type": "stream",
     "text": [
      "Gene with locus_tag E5E91_RS15025 not found in record NZ_CP038663.1.\n",
      "Found locus_tag E5E91_RS15025 in NZ_CP038664.1, Record ID: NZ_CP038664.1\n",
      "Performing BLAST search for PprA...\n",
      "BLAST search completed for PprA\n",
      "Found locus_tag E5E91_RS11810 in NZ_CP038663.1, Record ID: NZ_CP038663.1\n",
      "Performing BLAST search for RecA...\n"
     ]
    }
   ],
   "source": [
    "# Perform BLAST and parse results\n",
    "for gene_name, locus_tag in target_genes.items():\n",
    "    if locus_tag:\n",
    "        gene_sequence = extract_gene_sequence(locus_tag, search_type='locus_tag')\n",
    "        if gene_sequence:\n",
    "            print(f\"Performing BLAST search for {gene_name}...\")\n",
    "            result_handle = perform_blast(str(gene_sequence), organism=\"Thermus thermophilus\")\n",
    "            if result_handle:\n",
    "                # Parse the BLAST result handle and store it in the blast_results dictionary\n",
    "                blast_record = NCBIXML.read(result_handle)\n",
    "                blast_results[gene_name] = blast_record\n",
    "                print(f\"BLAST search completed for {gene_name}\")\n",
    "            else:\n",
    "                print(f\"BLAST search failed for gene: {gene_name}\")\n",
    "        else:\n",
    "            print(f\"Sequence extraction failed for gene: {gene_name}\")\n",
    "    else:\n",
    "        print(f\"Locus tag not found for gene: {gene_name}\")\n",
    "\n",
    "# Now display the BLAST results\n",
    "print(\"BLAST results keys:\", blast_results.keys())\n",
    "display_blast_results(blast_results)"
   ]
  },
  {
   "cell_type": "code",
   "execution_count": null,
   "id": "23949822",
   "metadata": {},
   "outputs": [],
   "source": [
    "# debugging - see if dictionary is empty or not\n",
    "print(\"BLAST results keys:\", blast_results.keys())"
   ]
  },
  {
   "cell_type": "code",
   "execution_count": null,
   "id": "cfa9ffc4",
   "metadata": {},
   "outputs": [],
   "source": [
    "# Function to display BLAST results\n",
    "def display_blast_results(blast_results):\n",
    "    for gene, blast_record in blast_results.items():\n",
    "        print(f\"Results for {gene}:\")\n",
    "        for alignment in blast_record.alignments:\n",
    "            for hsp in alignment.hsps:\n",
    "                print(f\"****Alignment****\")\n",
    "                print(f\"sequence: {alignment.title}\")\n",
    "                print(f\"length: {alignment.length}\")\n",
    "                print(f\"e value: {hsp.expect}\")\n",
    "                print(hsp.query[0:75] + \"...\")\n",
    "                print(hsp.match[0:75] + \"...\")\n",
    "                print(hsp.sbjct[0:75] + \"...\")\n",
    "        print(\"\\n\")\n",
    "\n",
    "# Assuming blast_results contains the BLAST results\n",
    "display_blast_results(blast_results)"
   ]
  }
 ],
 "metadata": {
  "kernelspec": {
   "display_name": "Python 3 (ipykernel)",
   "language": "python",
   "name": "python3"
  },
  "language_info": {
   "codemirror_mode": {
    "name": "ipython",
    "version": 3
   },
   "file_extension": ".py",
   "mimetype": "text/x-python",
   "name": "python",
   "nbconvert_exporter": "python",
   "pygments_lexer": "ipython3",
   "version": "3.9.13"
  }
 },
 "nbformat": 4,
 "nbformat_minor": 5
}
