{
 "cells": [
  {
   "cell_type": "code",
   "execution_count": 1,
   "id": "b363b519",
   "metadata": {},
   "outputs": [],
   "source": [
    "from Bio import Entrez, SeqIO\n",
    "from Bio.Blast import NCBIWWW\n",
    "from Bio.Blast import NCBIXML"
   ]
  },
  {
   "cell_type": "code",
   "execution_count": 2,
   "id": "37bc0226",
   "metadata": {},
   "outputs": [],
   "source": [
    "# email address required to access GenBank\n",
    "Entrez.email = \"megzlives@gmail.com\""
   ]
  },
  {
   "cell_type": "code",
   "execution_count": 3,
   "id": "65d41618",
   "metadata": {},
   "outputs": [],
   "source": [
    "# function to retrieve genomic data\n",
    "def retrieve_genomic_data(accession):\n",
    "    handle = Entrez.efetch(db=\"nucleotide\", id=accession, rettype=\"fasta\", retmode=\"text\")\n",
    "    record = SeqIO.read(handle, \"fasta\")\n",
    "    handle.close()\n",
    "    return record.seq"
   ]
  },
  {
   "cell_type": "code",
   "execution_count": 4,
   "id": "d9d81150",
   "metadata": {},
   "outputs": [],
   "source": [
    "# retrieve genomic data for Dienococcus radiodurans\n",
    "d_radiodurans_seq = retrieve_genomic_data(\"NC_001263.1\") \n",
    "\n",
    "# retrieve genomic data for Thermus thermophilus\n",
    "t_thermophilus_seq = retrieve_genomic_data(\"NC_006461.1\")"
   ]
  },
  {
   "cell_type": "code",
   "execution_count": 5,
   "id": "30ae0bc5",
   "metadata": {},
   "outputs": [],
   "source": [
    "# function to perform BLAST analysis for a gene sequence\n",
    "def perform_blast(sequence, database=\"nt\", organism=\"Thermus thermophilus\"):\n",
    "    try:\n",
    "        # We use the entrez_query parameter to filter the search for the specific organism\n",
    "        result_handle = NCBIWWW.qblast(\"blastn\", database, sequence, entrez_query=f'organism=\"{organism}\"')\n",
    "        return result_handle\n",
    "    except Exception as e:\n",
    "        print(f\"Error performing BLAST: {str(e)}\")\n",
    "        return None"
   ]
  },
  {
   "cell_type": "code",
   "execution_count": 6,
   "id": "b1f2828c",
   "metadata": {},
   "outputs": [],
   "source": [
    "# Function to parse BLAST results\n",
    "def parse_blast_results(blast_result_handle):\n",
    "    blast_records = NCBIXML.read(blast_result_handle)\n",
    "    # Extract relevant information from the BLAST records\n",
    "    results = []\n",
    "    for alignment in blast_records.alignments:\n",
    "        for hsp in alignment.hsps:\n",
    "            result = {\n",
    "                'title': alignment.title,\n",
    "                'score': hsp.score,\n",
    "                'e_value': hsp.expect,\n",
    "                'identities': hsp.identities,\n",
    "                'align_length': hsp.align_length\n",
    "            }\n",
    "            results.append(result)\n",
    "    return results"
   ]
  },
  {
   "cell_type": "code",
   "execution_count": 9,
   "id": "1324a0af",
   "metadata": {},
   "outputs": [],
   "source": [
    "# If no records found, possibly need to search for the gene in the genome rather than in the \n",
    "# nucleotide database. This part of the code might need to be adjusted based on the actual \n",
    "# data available in GenBank\n",
    "\n",
    "def extract_gene_sequence(accession, gene_name):\n",
    "    # Search for the gene in the nucleotide database to get its GenBank ID\n",
    "    search_handle = Entrez.esearch(db=\"nucleotide\", term=f\"{accession}[Accession] AND {gene_name}[Gene]\")\n",
    "    search_results = Entrez.read(search_handle)\n",
    "    search_handle.close()\n",
    "    # Get the list of GenBank IDs\n",
    "    genbank_ids = search_results[\"IdList\"]\n",
    "    \n",
    "    if not genbank_ids:\n",
    "        print(f\"No GenBank records found for gene: {gene_name}\")\n",
    "        return None\n",
    "    \n",
    "    # Fetch the GenBank record for the first ID in the list\n",
    "    genbank_id = genbank_ids[0]\n",
    "    genbank_handle = Entrez.efetch(db=\"nucleotide\", id=genbank_id, rettype=\"gb\", retmode=\"text\")\n",
    "    genbank_record = SeqIO.read(genbank_handle, \"genbank\")\n",
    "    genbank_handle.close()\n",
    "    \n",
    "    # Extract the gene sequence from the GenBank record\n",
    "    for feature in genbank_record.features:\n",
    "        if feature.type == \"gene\" and 'gene' in feature.qualifiers:\n",
    "            if feature.qualifiers['gene'][0].lower() == gene_name.lower():\n",
    "                # Get the sequence within the feature location\n",
    "                gene_sequence = feature.extract(genbank_record.seq)\n",
    "                return gene_sequence\n",
    "\n",
    "    print(f\"Gene {gene_name} not found in the GenBank record with ID {genbank_id}\")\n",
    "    return None\n"
   ]
  },
  {
   "cell_type": "code",
   "execution_count": 10,
   "id": "c32217c1",
   "metadata": {},
   "outputs": [],
   "source": [
    "# list of target genes involved in radiation resistance\n",
    "target_genes = [\n",
    "    \"PprA\", \"RecA\", \"DdrA\", \"DdrB\", \"DdrC\", \"Ku\", \"LigD\", \"DR0423\", \"Ssb\", \"PolA\", \"ThyA\", \"PNPase\"\n",
    "    # Note: Gene names should be the standard codes used in the database.\n",
    "]"
   ]
  },
  {
   "cell_type": "code",
   "execution_count": 11,
   "id": "f6af0722",
   "metadata": {},
   "outputs": [],
   "source": [
    "# dictionary to store BLAST results for each gene\n",
    "blast_results = {}"
   ]
  },
  {
   "cell_type": "code",
   "execution_count": 12,
   "id": "a19d9a97",
   "metadata": {},
   "outputs": [
    {
     "name": "stdout",
     "output_type": "stream",
     "text": [
      "No GenBank records found for gene: PprA\n",
      "Sequence extraction failed for gene: PprA\n",
      "No GenBank records found for gene: RecA\n",
      "Sequence extraction failed for gene: RecA\n",
      "No GenBank records found for gene: DdrA\n",
      "Sequence extraction failed for gene: DdrA\n",
      "No GenBank records found for gene: DdrB\n",
      "Sequence extraction failed for gene: DdrB\n",
      "No GenBank records found for gene: DdrC\n",
      "Sequence extraction failed for gene: DdrC\n",
      "No GenBank records found for gene: Ku\n",
      "Sequence extraction failed for gene: Ku\n",
      "No GenBank records found for gene: LigD\n",
      "Sequence extraction failed for gene: LigD\n",
      "No GenBank records found for gene: DR0423\n",
      "Sequence extraction failed for gene: DR0423\n",
      "No GenBank records found for gene: Ssb\n",
      "Sequence extraction failed for gene: Ssb\n",
      "No GenBank records found for gene: PolA\n",
      "Sequence extraction failed for gene: PolA\n",
      "No GenBank records found for gene: ThyA\n",
      "Sequence extraction failed for gene: ThyA\n",
      "No GenBank records found for gene: PNPase\n",
      "Sequence extraction failed for gene: PNPase\n"
     ]
    }
   ],
   "source": [
    "# Perform BLAST analysis for each gene\n",
    "for gene in target_genes:\n",
    "    # Extract the gene sequence from D. radiodurans genome\n",
    "    gene_sequence = extract_gene_sequence(d_radiodurans_seq, gene)\n",
    "    if gene_sequence:\n",
    "        # Perform BLAST search against the T. thermophilus genome\n",
    "        result_handle = perform_blast(str(gene_sequence), organism=\"Thermus thermophilus\")\n",
    "        \n",
    "        # Parse BLAST results and store in the dictionary\n",
    "        if result_handle:\n",
    "            blast_results[gene] = parse_blast_results(result_handle)\n",
    "        else:\n",
    "            print(f\"BLAST search failed for gene: {gene}\")\n",
    "    else:\n",
    "        print(f\"Sequence extraction failed for gene: {gene}\")\n",
    "\n",
    "# After this point, blast_results will contain the parsed BLAST output for each gene"
   ]
  }
 ],
 "metadata": {
  "kernelspec": {
   "display_name": "Python 3 (ipykernel)",
   "language": "python",
   "name": "python3"
  },
  "language_info": {
   "codemirror_mode": {
    "name": "ipython",
    "version": 3
   },
   "file_extension": ".py",
   "mimetype": "text/x-python",
   "name": "python",
   "nbconvert_exporter": "python",
   "pygments_lexer": "ipython3",
   "version": "3.9.13"
  }
 },
 "nbformat": 4,
 "nbformat_minor": 5
}
