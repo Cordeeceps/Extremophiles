{
 "cells": [
  {
   "cell_type": "code",
   "execution_count": 2,
   "id": "b363b519",
   "metadata": {},
   "outputs": [],
   "source": [
    "from Bio import Entrez, SeqIO\n",
    "from Bio.Blast import NCBIWWW\n",
    "from Bio.Blast import NCBIXML\n",
    "import time\n",
    "import pandas as pd\n",
    "from scipy.stats import ttest_ind\n",
    "import matplotlib.pyplot as plt\n",
    "import seaborn as sns\n",
    "from threading import Thread\n",
    "import queue\n",
    "from tabulate import tabulate\n",
    "import re\n",
    "from collections import Counter"
   ]
  },
  {
   "cell_type": "code",
   "execution_count": null,
   "id": "37bc0226",
   "metadata": {},
   "outputs": [],
   "source": [
    "# email address required to access GenBank\n",
    "Entrez.email = \"megzlives@gmail.com\""
   ]
  },
  {
   "cell_type": "code",
   "execution_count": null,
   "id": "65d41618",
   "metadata": {},
   "outputs": [],
   "source": [
    "# function to retrieve genomic data\n",
    "def retrieve_genomic_data(accession):\n",
    "    print(f\"Attempting to retrieve data for {accession}\")\n",
    "    for attempt in range(3):  # Try to fetch the data up to 3 times\n",
    "        try:\n",
    "            handle = Entrez.efetch(db=\"nucleotide\", id=accession, rettype=\"gbwithparts\", retmode=\"text\")\n",
    "            print(f\"Downloading data for {accession}...\")\n",
    "            # Use SeqIO.parse() to read multi-sequence GenBank files\n",
    "            records = list(SeqIO.parse(handle, \"genbank\"))\n",
    "            handle.close()\n",
    "            print(f\"Successfully retrieved data for {accession}\")\n",
    "            return records  # This will be a list of records\n",
    "        except Exception as e:\n",
    "            print(f\"An error occurred while fetching {accession}: {e}\")\n",
    "            print(\"Attempting to retry...\")\n",
    "            time.sleep(2)  # Wait for 2 seconds before retrying\n",
    "    print(f\"Failed to retrieve data for {accession} after multiple attempts.\")\n",
    "    return None"
   ]
  },
  {
   "cell_type": "code",
   "execution_count": null,
   "id": "d9d81150",
   "metadata": {
    "scrolled": true
   },
   "outputs": [],
   "source": [
    "# Define a dictionary to hold the accession numbers for each organism and their components\n",
    "accession_numbers = {\n",
    "    \"Deinococcus radiodurans\": [\"NZ_CP038663.1\", \"NZ_CP038664.1\", \"NZ_CP038666.1\", \"NZ_CP038665.1\"],\n",
    "    \"Thermus thermophilus\": [\"NC_006461.1\", \"NC_006463.1\", \"NC_006462.1\"], \n",
    "    \"Deinococcus deserti\": [\"NC_012526.1\", \"NC_012527.1\", \"NC_012529.1\", \"NC_012528.1\"],\n",
    "    \"Deinococcus proteolyticus\": [\"NC_015161.1\", \"NC_015169.1\", \"NC_015162.1\", \"NC_015170.1\", \"NC_015163.1\"],\n",
    "    \"Deinococcus geothermalis\": [\"NC_008025.1\", \"NC_008010.2\", \"NC_009939.1\"],\n",
    "    \"Thermococcus gammatolerans\": [\"NC_012804.1\"]\n",
    "}"
   ]
  },
  {
   "cell_type": "code",
   "execution_count": null,
   "id": "b8843c1d",
   "metadata": {},
   "outputs": [],
   "source": [
    "# Retrieve genomic data for each organism\n",
    "all_organism_sequences = {}\n",
    "for organism, accessions in accession_numbers.items():\n",
    "    all_organism_sequences[organism] = []\n",
    "    for accession in accessions:\n",
    "        records = retrieve_genomic_data(accession)\n",
    "        if records:\n",
    "            all_organism_sequences[organism].extend(records)\n",
    "            print(f\"Records for {accession} ({organism}) added to the database.\")\n",
    "        else:\n",
    "            print(f\"Could not retrieve records for {accession} ({organism}).\")"
   ]
  },
  {
   "cell_type": "code",
   "execution_count": null,
   "id": "50ffeecf",
   "metadata": {},
   "outputs": [],
   "source": [
    "# times out if BLAST search takes too long. time is in seconds \n",
    "# change organism to the desired species for the BLAST search\n",
    "def perform_blast(sequence, database=\"nt\", organism=\"Thermococcus gammatolerans\", timeout=1200):\n",
    "    def blast_thread(queue, sequence, database, organism):\n",
    "        try:\n",
    "            result_handle = NCBIWWW.qblast(\"blastn\", database, sequence, entrez_query=f'organism=\"{organism}\"')\n",
    "            queue.put(result_handle)\n",
    "        except Exception as e:\n",
    "            print(f\"Error performing BLAST: {str(e)}\")\n",
    "            queue.put(None)\n",
    "\n",
    "    q = queue.Queue()\n",
    "    blast_thread = Thread(target=blast_thread, args=(q, sequence, database, organism))\n",
    "    blast_thread.start()\n",
    "    blast_thread.join(timeout)\n",
    "\n",
    "    if blast_thread.is_alive():\n",
    "        print(\"BLAST search timed out\")\n",
    "        return None\n",
    "    else:\n",
    "        return q.get()"
   ]
  },
  {
   "cell_type": "code",
   "execution_count": null,
   "id": "86feecb8",
   "metadata": {},
   "outputs": [],
   "source": [
    "# function for extracting gene sequence \n",
    "# change search_type to gene to search for gene name or locus_tag to search by locus tag\n",
    "# change organism to the organism you want to search for target genes in\n",
    "def extract_gene_sequence(search_term, search_type='locus_tag', organism='Deinococcus radiodurans'):\n",
    "    with open(\"gene_and_locus_tags.txt\", \"w\") as file:  # Open a text file for writing\n",
    "        found = False  # Flag to check if the gene is found\n",
    "        for record in all_organism_sequences[organism]:\n",
    "            for feature in record.features:\n",
    "                if feature.type in [\"gene\", \"CDS\"]:\n",
    "                    # Extract gene name, locus tag, and gene ID\n",
    "                    gene_name = feature.qualifiers.get(\"gene\", [\"No gene name\"])[0]\n",
    "                    locus_tag = feature.qualifiers.get(\"locus_tag\", [\"No locus tag\"])[0]\n",
    "                    gene_id_list = feature.qualifiers.get(\"db_xref\", [])\n",
    "                    gene_id = next((id_part.split(\":\")[1] for id_part in gene_id_list if id_part.startswith(\"GeneID:\")), \"No Gene ID\")\n",
    "                    file.write(f\"{gene_name}\\t{locus_tag}\\t{gene_id}\\n\")  # Write to file\n",
    "                    if search_type in feature.qualifiers:\n",
    "                        # This can be a list, so check if the search term is in the list\n",
    "                        if search_term in feature.qualifiers[search_type]:\n",
    "                            print(f\"Found {search_type} {search_term} in {organism}, Record ID: {record.id}\")\n",
    "                            found = True\n",
    "                            gene_sequence = feature.extract(record.seq)\n",
    "                            return gene_sequence\n",
    "            if not found:\n",
    "                print(f\"Gene with {search_type} {search_term} not found in record {record.id}.\")\n",
    "    if not found:\n",
    "        print(f\"Search completed. Gene with {search_type} {search_term} not found in any of the GenBank records.\")\n",
    "    return None\n"
   ]
  },
  {
   "cell_type": "code",
   "execution_count": null,
   "id": "b1f2828c",
   "metadata": {},
   "outputs": [],
   "source": [
    "# function to parse BLAST results\n",
    "def parse_blast_results(blast_result_handle):\n",
    "    blast_records = NCBIXML.read(blast_result_handle)\n",
    "    results = []\n",
    "    for alignment in blast_records.alignments:\n",
    "        for hsp in alignment.hsps:\n",
    "            result = {\n",
    "                'title': alignment.title,\n",
    "                'score': hsp.score,\n",
    "                'e_value': hsp.expect,\n",
    "                'identities': hsp.identities,\n",
    "                'align_length': hsp.align_length\n",
    "            }\n",
    "            results.append(result)\n",
    "    return results"
   ]
  },
  {
   "cell_type": "code",
   "execution_count": null,
   "id": "727b3105",
   "metadata": {},
   "outputs": [],
   "source": [
    "# function to display BLAST results\n",
    "def display_blast_results(blast_results):\n",
    "    for gene, results in blast_results.items():\n",
    "        print(f\"Results for {gene}:\")\n",
    "        for result in results:\n",
    "            print(f\"Title: {result['title']}\")\n",
    "            print(f\"Score: {result['score']}\")\n",
    "            print(f\"E-value: {result['e_value']}\")\n",
    "            print(f\"Identities: {result['identities']}\")\n",
    "            print(f\"Alignment length: {result['align_length']}\")\n",
    "            print(\"\\n\")"
   ]
  },
  {
   "cell_type": "code",
   "execution_count": null,
   "id": "5889c3ee",
   "metadata": {},
   "outputs": [],
   "source": [
    "# dictionary of target genes in D. radiodurans; includes gene name and locus tags\n",
    "target_genes = {\n",
    "    \"PprA\": \"E5E91_RS15025\",\n",
    "    \"RecA\": \"E5E91_RS11810\",\n",
    "    \"DdrA\": \"E5E91_RS02140\",\n",
    "    \"DdrB\": \"E5E91_RS00360\",\n",
    "    \"DdrC\": \"E5E91_RS00015\",\n",
    "    \"NADH-quinone oxidoreductase subunit N\": \"E5E91_RS07520\",\n",
    "    \"LigD\": None,  # Replace with the actual locus tag when found\n",
    "    \"Dps\": \"E5E91_RS11440\",\n",
    "    \"Bcp\": None,   # Replace with the actual locus tag when found\n",
    "    \"IrrE\": \"E5E91_RS00855\",\n",
    "    \"Ssb\": None,   # Replace with the actual locus tag when found\n",
    "    \"PolA\": \"E5E91_RS08585\",\n",
    "    \"ThyA\": \"E5E91_RS13290\",\n",
    "    \"PNPase\": \"E5E91_RS10905\"\n",
    "}"
   ]
  },
  {
   "cell_type": "code",
   "execution_count": null,
   "id": "5a8e7bf4",
   "metadata": {},
   "outputs": [],
   "source": [
    "# dictionary to store BLAST results for each gene\n",
    "blast_results = {}"
   ]
  },
  {
   "cell_type": "code",
   "execution_count": null,
   "id": "6b74c13d",
   "metadata": {},
   "outputs": [],
   "source": [
    "# extract gene sequences based on locus tag\n",
    "for gene, locus_tag in target_genes.items():\n",
    "    if locus_tag:  # Make sure the locus tag is not None\n",
    "        gene_sequence = extract_gene_sequence(locus_tag, search_type='locus_tag')\n",
    "        if gene_sequence:\n",
    "            # Placeholder for the code to proceed with BLAST or other processing\n",
    "            print(f\"Gene sequence found for {gene}: {gene_sequence[:10]}...\")  # Show part of the gene sequence\n",
    "        else:\n",
    "            print(f\"Sequence extraction failed for gene: {gene}\")\n",
    "    else:\n",
    "        print(f\"Locus tag not found for gene: {gene}\")"
   ]
  },
  {
   "cell_type": "code",
   "execution_count": null,
   "id": "ce52c6e3",
   "metadata": {},
   "outputs": [],
   "source": [
    "# function for retrying BLAST search if it fails\n",
    "def retry_blast_for_gene(gene, sequence, organism, database=\"nt\", timeout=1200):\n",
    "    print(f\"Retrying BLAST search for {gene}...\")\n",
    "    result_handle = perform_blast(sequence, database, organism, timeout)\n",
    "    if result_handle:\n",
    "        # Parse the BLAST result handle and store it in the blast_results dictionary\n",
    "        blast_results[gene] = parse_blast_results(result_handle)\n",
    "        print(f\"BLAST search successful for {gene}\")\n",
    "    else:\n",
    "        print(f\"Retrying BLAST search failed for gene: {gene}\")"
   ]
  },
  {
   "cell_type": "code",
   "execution_count": null,
   "id": "ce18ce10",
   "metadata": {},
   "outputs": [],
   "source": [
    "# Perform BLAST and parse results, with retry for failures\n",
    "for gene, locus_tag in target_genes.items():\n",
    "    if locus_tag:\n",
    "        gene_sequence = extract_gene_sequence(locus_tag, search_type='locus_tag')\n",
    "        if gene_sequence:\n",
    "            print(f\"Performing BLAST search for {gene}...\")\n",
    "            result_handle = perform_blast(str(gene_sequence), organism=\"Thermococcus gammatolerans\")\n",
    "            if result_handle:\n",
    "                blast_results[gene] = parse_blast_results(result_handle)\n",
    "                print(f\"BLAST search completed for {gene}\")\n",
    "            else:\n",
    "                print(f\"BLAST search failed for gene: {gene}, attempting retry...\")\n",
    "                retry_blast_for_gene(gene, str(gene_sequence), \"Thermococcus gammatolerans\")\n",
    "        else:\n",
    "            print(f\"Sequence extraction failed for gene: {gene}\")\n",
    "    else:\n",
    "        print(f\"Locus tag not found for gene: {gene}\")"
   ]
  },
  {
   "cell_type": "code",
   "execution_count": null,
   "id": "84431d7f",
   "metadata": {},
   "outputs": [],
   "source": [
    "# Function to save BLAST results to a CSV file (IE, there was too much data to just display lol)\n",
    "def save_blast_results_to_csv(blast_results, file_name):\n",
    "    rows = []\n",
    "    for gene, results in blast_results.items():\n",
    "        for result in results:\n",
    "            row = {\n",
    "                'gene': gene,\n",
    "                'title': result['title'],\n",
    "                'score': result['score'],\n",
    "                'e_value': result['e_value'],\n",
    "                'identities': result['identities'],\n",
    "                'align_length': result['align_length']\n",
    "            }\n",
    "            rows.append(row)\n",
    "    df = pd.DataFrame(rows)\n",
    "    df.to_csv(file_name, index=False)\n",
    "\n",
    "# Call the function to save BLAST results\n",
    "save_blast_results_to_csv(blast_results, \"blast_results.csv\")"
   ]
  },
  {
   "cell_type": "code",
   "execution_count": 4,
   "id": "ff7b38ca",
   "metadata": {},
   "outputs": [
    {
     "name": "stdout",
     "output_type": "stream",
     "text": [
      "Significant BLAST results saved to t_gammatolerans_significant_blast_results.csv\n"
     ]
    }
   ],
   "source": [
    "# FILTER BLAST RESULTS\n",
    "# Load BLAST results\n",
    "df = pd.read_csv(\"t_gammatolerans_blast_results.csv\")\n",
    "\n",
    "# Filter based on e-value threshold (e.g., e-value < 0.05)\n",
    "e_value_threshold = 0.05\n",
    "df_filtered = df[df['e_value'] < e_value_threshold]\n",
    "\n",
    "# Save the significant BLAST results to a new CSV file\n",
    "significant_blast_results_file = \"t_gammatolerans_significant_blast_results.csv\"\n",
    "df_filtered.to_csv(significant_blast_results_file, index=False)\n",
    "\n",
    "print(f\"Significant BLAST results saved to {significant_blast_results_file}\")"
   ]
  },
  {
   "cell_type": "code",
   "execution_count": 16,
   "id": "7af412ba",
   "metadata": {},
   "outputs": [
    {
     "name": "stdout",
     "output_type": "stream",
     "text": [
      "Top 10 Significant BLAST Results for T. gammatolerans\n",
      "-----------------------------------------------------\n",
      "+-----+--------+-------------------------------------------------------+---------+-------------+--------------+----------------+\n",
      "|     | gene   | title                                                 |   score |     e_value |   identities |   align_length |\n",
      "+=====+========+=======================================================+=========+=============+==============+================+\n",
      "|  70 | Ku     | gi|239909610|gb|CP001398.1| Thermococcus gammatole... |      48 | 0.000114441 |           30 |             34 |\n",
      "+-----+--------+-------------------------------------------------------+---------+-------------+--------------+----------------+\n",
      "| 167 | PNPase | gi|239909610|gb|CP001398.1| Thermococcus gammatole... |      38 | 0.0283984   |           22 |             24 |\n",
      "+-----+--------+-------------------------------------------------------+---------+-------------+--------------+----------------+\n",
      "|  16 | RecA   | gi|239909610|gb|CP001398.1| Thermococcus gammatole... |      39 | 0.0435143   |           21 |             22 |\n",
      "+-----+--------+-------------------------------------------------------+---------+-------------+--------------+----------------+\n",
      "|  17 | RecA   | gi|239909610|gb|CP001398.1| Thermococcus gammatole... |      39 | 0.0435143   |           24 |             27 |\n",
      "+-----+--------+-------------------------------------------------------+---------+-------------+--------------+----------------+\n"
     ]
    }
   ],
   "source": [
    "# TABLE GENERATION \n",
    "# Sort the DataFrame by e_value in ascending order (lower e_value is more significant)\n",
    "df_sorted = df_filtered.sort_values('e_value')\n",
    "\n",
    "# Select the top N significant results to display\n",
    "top_n = 10  # Adjust this number as needed\n",
    "df_top_significant = df_sorted.head(top_n)\n",
    "\n",
    "# Dictionary of long gene name aliases\n",
    "gene_aliases = {\n",
    "    \"NADH-quinone oxidoreductase subunit N\": \"Ku\",\n",
    "    # Add other gene aliases if needed\n",
    "}\n",
    "\n",
    "# Replace long gene names with their shorter aliases\n",
    "df_top_significant['gene'] = df_top_significant['gene'].replace(gene_aliases)\n",
    "\n",
    "# Set display options for better table formatting\n",
    "pd.set_option('display.max_columns', None)  # Show all columns\n",
    "pd.set_option('display.precision', 3)  # Set precision for floating point numbers\n",
    "pd.set_option('display.width', None)  # Auto-detect the display width\n",
    "pd.set_option('display.colheader_justify', 'center')  # Center-justify column headers\n",
    "\n",
    "# Limit the length of the 'title' field to make the table more compact\n",
    "max_title_length = 50  # Adjust this value as needed\n",
    "df_top_significant['title'] = df_top_significant['title'].apply(lambda x: x[:max_title_length] + '...' if len(x) > max_title_length else x)\n",
    "\n",
    "# Define the title for the table\n",
    "table_title = \"Top 10 Significant BLAST Results for T. gammatolerans\"\n",
    "\n",
    "# Display the title\n",
    "print(table_title)\n",
    "print(\"-\" * len(table_title))  # Optional: underline for the title\n",
    "\n",
    "# Define columns to display\n",
    "columns_to_display = ['gene', 'title', 'score', 'e_value', 'identities', 'align_length']\n",
    "\n",
    "# Format and display the table using 'tabulate'\n",
    "from tabulate import tabulate\n",
    "table = tabulate(df_top_significant[columns_to_display], headers='keys', tablefmt='grid')\n",
    "print(table)"
   ]
  },
  {
   "cell_type": "code",
   "execution_count": 8,
   "id": "7c884b1a",
   "metadata": {},
   "outputs": [
    {
     "name": "stdout",
     "output_type": "stream",
     "text": [
      "Thermococcus gammatolerans: 4\n"
     ]
    }
   ],
   "source": [
    "# ORGANISM CHART\n",
    "# Load the BLAST results\n",
    "df = pd.read_csv(\"t_gammatolerans_significant_blast_results.csv\")\n",
    "\n",
    "# Function to extract species name from the title\n",
    "def extract_species(title):\n",
    "    match = re.search(r'\\|\\s([A-Za-z]+ [a-z]+)', title)\n",
    "    return match.group(1) if match else 'Unknown'\n",
    "\n",
    "# Apply the function to extract species names\n",
    "df['species'] = df['title'].apply(extract_species)\n",
    "\n",
    "# Count occurrences of each species\n",
    "species_counts = Counter(df['species'])\n",
    "\n",
    "# Sort the species by count and format for better readability\n",
    "sorted_species_counts = sorted(species_counts.items(), key=lambda x: x[1], reverse=True)\n",
    "formatted_output = \"\\n\".join([f\"{species}: {count}\" for species, count in sorted_species_counts])\n",
    "\n",
    "# Display the formatted output\n",
    "print(formatted_output)"
   ]
  },
  {
   "cell_type": "code",
   "execution_count": 10,
   "id": "894743a0",
   "metadata": {},
   "outputs": [
    {
     "data": {
      "image/png": "[encoded data removed]",
      "text/plain": [
       "<Figure size 1000x800 with 1 Axes>"
      ]
     },
     "metadata": {},
     "output_type": "display_data"
    }
   ],
   "source": [
    "# ORGANISM BAR CHART\n",
    "# Abbreviate species names\n",
    "def abbreviate_species(species):\n",
    "    parts = species.split()\n",
    "    if len(parts) > 1:\n",
    "        return f\"{parts[0][0]}. {parts[1]}\"\n",
    "    return species\n",
    "\n",
    "abbreviated_species_counts = {abbreviate_species(species): count for species, count in sorted_species_counts}\n",
    "\n",
    "# Create the bar chart\n",
    "plt.figure(figsize=(10, 8))\n",
    "plt.bar(abbreviated_species_counts.keys(), abbreviated_species_counts.values())\n",
    "\n",
    "# Rotate the x-axis labels for better readability\n",
    "plt.xticks(rotation=45, ha='right')\n",
    "\n",
    "# Adding labels and title\n",
    "plt.title('Frequency of Organisms in T. gammatolerans BLAST Results')\n",
    "plt.xlabel('Organism')\n",
    "plt.ylabel('Count')\n",
    "\n",
    "# Show the plot\n",
    "plt.tight_layout()\n",
    "plt.show()"
   ]
  },
  {
   "cell_type": "code",
   "execution_count": 11,
   "id": "5c9c5c9e",
   "metadata": {},
   "outputs": [
    {
     "name": "stdout",
     "output_type": "stream",
     "text": [
      "T-test: t-statistic = nan, p-value = nan\n"
     ]
    },
    {
     "name": "stderr",
     "output_type": "stream",
     "text": [
      "C:\\Users\\megzl\\AppData\\Local\\Temp\\ipykernel_3448\\1974445303.py:15: RuntimeWarning: Precision loss occurred in moment calculation due to catastrophic cancellation. This occurs when the data are nearly identical. Results may be unreliable.\n",
      "  t_stat, p_val = ttest_ind(hgt_candidates['score'], control_group['score'], nan_policy='omit')\n",
      "C:\\Users\\megzl\\anaconda3\\lib\\site-packages\\scipy\\stats\\_stats_py.py:1250: RuntimeWarning: divide by zero encountered in true_divide\n",
      "  var *= np.divide(n, n-ddof)  # to avoid error on division by zero\n",
      "C:\\Users\\megzl\\anaconda3\\lib\\site-packages\\scipy\\stats\\_stats_py.py:1250: RuntimeWarning: invalid value encountered in double_scalars\n",
      "  var *= np.divide(n, n-ddof)  # to avoid error on division by zero\n"
     ]
    }
   ],
   "source": [
    "# T-TEST FOR HGT LIKELIHOOD\n",
    "# Calculate HGT likelihood score\n",
    "df_filtered['hgt_score'] = (1 / df_filtered['e_value']) * df_filtered['identities']\n",
    "\n",
    "# Define a threshold for high HGT likelihood\n",
    "hgt_score_threshold = df_filtered['hgt_score'].quantile(0.75)  # Example: top 25% as HGT candidates\n",
    "\n",
    "# Group 1: Potential HGT Candidates\n",
    "hgt_candidates = df_filtered[df_filtered['hgt_score'] >= hgt_score_threshold]\n",
    "\n",
    "# Group 2: Control Group\n",
    "control_group = df_filtered[df_filtered['hgt_score'] < hgt_score_threshold]\n",
    "\n",
    "# Perform t-test on the scores\n",
    "t_stat, p_val = ttest_ind(hgt_candidates['score'], control_group['score'], nan_policy='omit')\n",
    "print(f\"T-test: t-statistic = {t_stat}, p-value = {p_val}\")"
   ]
  },
  {
   "cell_type": "code",
   "execution_count": 13,
   "id": "7ca16a08",
   "metadata": {},
   "outputs": [
    {
     "data": {
      "image/png": "[encoded data removed]",
      "text/plain": [
       "<Figure size 640x480 with 1 Axes>"
      ]
     },
     "metadata": {},
     "output_type": "display_data"
    }
   ],
   "source": [
    "# Histogram of BLAST Scores\n",
    "plt.hist(df_filtered['score'], bins=30)\n",
    "plt.title('Distribution of BLAST Scores for T. gammatolerans')\n",
    "plt.xlabel('Score')\n",
    "plt.ylabel('Frequency')\n",
    "plt.show()"
   ]
  },
  {
   "cell_type": "code",
   "execution_count": 15,
   "id": "98634675",
   "metadata": {},
   "outputs": [
    {
     "data": {
      "image/png": "[encoded data removed]",
      "text/plain": [
       "<Figure size 1200x600 with 1 Axes>"
      ]
     },
     "metadata": {},
     "output_type": "display_data"
    }
   ],
   "source": [
    "# Copy the filtered DataFrame for plotting\n",
    "plot_data = df_filtered.copy()\n",
    "\n",
    "# Replace the long gene name with a shorter alias for the plot\n",
    "plot_data['gene'] = plot_data['gene'].replace('NADH-quinone oxidoreductase subunit N', 'Ku')\n",
    "\n",
    "# Increase the size of the plot\n",
    "plt.figure(figsize=(12, 6))\n",
    "\n",
    "# Boxplot for Score Comparison\n",
    "sns.boxplot(x='gene', y='score', data=plot_data)\n",
    "\n",
    "# Rotate the x-axis labels for better readability\n",
    "plt.xticks(rotation=45, ha='right')\n",
    "\n",
    "# Adding labels and title\n",
    "plt.title('T. gammatolerans BLAST Score Comparison by Gene')\n",
    "plt.xlabel('Gene')\n",
    "plt.ylabel('BLAST Score')\n",
    "\n",
    "# Show plot\n",
    "plt.tight_layout()\n",
    "plt.show()\n"
   ]
  }
 ],
 "metadata": {
  "kernelspec": {
   "display_name": "Python 3 (ipykernel)",
   "language": "python",
   "name": "python3"
  },
  "language_info": {
   "codemirror_mode": {
    "name": "ipython",
    "version": 3
   },
   "file_extension": ".py",
   "mimetype": "text/x-python",
   "name": "python",
   "nbconvert_exporter": "python",
   "pygments_lexer": "ipython3",
   "version": "3.9.13"
  }
 },
 "nbformat": 4,
 "nbformat_minor": 5
}
